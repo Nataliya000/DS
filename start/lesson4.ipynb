{
 "cells": [
  {
   "cell_type": "code",
   "execution_count": 1,
   "metadata": {
    "id": "P5UICCc6xwtJ"
   },
   "outputs": [],
   "source": [
    "# Понятие объекта в Python. Объекты как экземпляры классов."
   ]
  },
  {
   "cell_type": "code",
   "execution_count": 6,
   "metadata": {
    "colab": {
     "base_uri": "https://localhost:8080/"
    },
    "id": "SS8U5GKpuI8o",
    "outputId": "62ba78e3-af9d-461d-c661-e77ad5d0cef4"
   },
   "outputs": [
    {
     "name": "stdout",
     "output_type": "stream",
     "text": [
      "Rex\n",
      "Woof!\n"
     ]
    }
   ],
   "source": [
    "class Dog:\n",
    "    def __init__(self, name, age):\n",
    "        self.name = name\n",
    "        self.age = age\n",
    "\n",
    "    def bark(self):\n",
    "        return \"Woof!\"\n",
    "\n",
    "# Создание экземпляра класса Dog\n",
    "my_dog = Dog(\"Rex\", 5)\n",
    "\n",
    "# Использование атрибутов и методов объекта\n",
    "print(my_dog.name)  # Выводит: Rex\n",
    "print(my_dog.bark())  # Выводит: Woof!"
   ]
  },
  {
   "cell_type": "code",
   "execution_count": 3,
   "metadata": {
    "id": "IIbcKWCNuKup"
   },
   "outputs": [],
   "source": [
    "# Атрибуты и методы объектов\n",
    "class Dog:\n",
    "    def __init__(self, name, age):\n",
    "        self.name = name # атрибуты\n",
    "        self.age = age # атрибуты"
   ]
  },
  {
   "cell_type": "code",
   "execution_count": 4,
   "metadata": {
    "id": "kmpnjJXVyxX0"
   },
   "outputs": [],
   "source": [
    "# Встроенные методы объектов."
   ]
  },
  {
   "cell_type": "code",
   "execution_count": 5,
   "metadata": {
    "id": "0S544zCwwKkA"
   },
   "outputs": [],
   "source": [
    "# 1. __init__(self, [...])\n",
    "class Dog:\n",
    "    def __init__(self, name, age):\n",
    "        self.name = name\n",
    "        self.age = age\n",
    "\n",
    "my_dog = Dog(\"Rex\", 5)"
   ]
  },
  {
   "cell_type": "code",
   "execution_count": 6,
   "metadata": {
    "colab": {
     "base_uri": "https://localhost:8080/"
    },
    "id": "e-Szkqj-4eRN",
    "outputId": "c9eb8a7a-bb8a-48b1-e5f4-f58fae6a568a"
   },
   "outputs": [
    {
     "name": "stdout",
     "output_type": "stream",
     "text": [
      "Собака по кличке Rex и ей 5 лет\n"
     ]
    }
   ],
   "source": [
    "# 2. __str__(self)\n",
    "class Dog:\n",
    "    def __init__(self, name, age):\n",
    "        self.name = name\n",
    "        self.age = age\n",
    "\n",
    "    def __str__(self):\n",
    "        return f\"Собака по кличке {self.name} и ей {self.age} лет\"\n",
    "\n",
    "my_dog = Dog(\"Rex\", 5)\n",
    "print(my_dog)  # Вывод: Собака по кличке Rex и ей 5 лет"
   ]
  },
  {
   "cell_type": "code",
   "execution_count": 7,
   "metadata": {
    "colab": {
     "base_uri": "https://localhost:8080/"
    },
    "id": "Rvm8KDpr4l_m",
    "outputId": "e70c8d0d-633e-475b-fb34-d8ecabb1003f"
   },
   "outputs": [
    {
     "name": "stdout",
     "output_type": "stream",
     "text": [
      "Dog(\"Rex\", 5)\n"
     ]
    }
   ],
   "source": [
    "# 3. __repr__(self)\n",
    "class Dog:\n",
    "    def __init__(self, name, age):\n",
    "        self.name = name\n",
    "        self.age = age\n",
    "\n",
    "    def __repr__(self):\n",
    "        return f'Dog(\"{self.name}\", {self.age})'\n",
    "\n",
    "my_dog = Dog(\"Rex\", 5)\n",
    "print(repr(my_dog))  # Вывод: Dog(\"Rex\", 5)"
   ]
  },
  {
   "cell_type": "code",
   "execution_count": 8,
   "metadata": {
    "colab": {
     "base_uri": "https://localhost:8080/"
    },
    "id": "XVb0eryd4rW2",
    "outputId": "1682a29c-3985-4b72-d5a8-03c210c6d4d0"
   },
   "outputs": [
    {
     "name": "stdout",
     "output_type": "stream",
     "text": [
      "Rex удаляется\n"
     ]
    }
   ],
   "source": [
    "# 4. __del__(self)\n",
    "class Dog:\n",
    "    def __init__(self, name):\n",
    "        self.name = name\n",
    "\n",
    "    def __del__(self):\n",
    "        print(f\"{self.name} удаляется\")\n",
    "\n",
    "my_dog = Dog(\"Rex\")\n",
    "del my_dog  # Вывод: Rex удаляется\n"
   ]
  },
  {
   "cell_type": "code",
   "execution_count": 9,
   "metadata": {
    "colab": {
     "base_uri": "https://localhost:8080/"
    },
    "id": "2xe51CQe4vtW",
    "outputId": "4c9dcf7d-c0b6-4ec5-bf39-3c69df3a46a1"
   },
   "outputs": [
    {
     "name": "stdout",
     "output_type": "stream",
     "text": [
      "60\n"
     ]
    }
   ],
   "source": [
    "# 5. __add__(self, other)\n",
    "class Number:\n",
    "    def __init__(self, value):\n",
    "        self.value = value\n",
    "\n",
    "    def __add__(self, other):\n",
    "        return Number(self.value + other.value)\n",
    "\n",
    "num1 = Number(40)\n",
    "num2 = Number(20)\n",
    "result = num1 + num2\n",
    "print(result.value)  # Вывод: 60\n"
   ]
  },
  {
   "cell_type": "code",
   "execution_count": 10,
   "metadata": {
    "colab": {
     "base_uri": "https://localhost:8080/"
    },
    "id": "uqHx_57-4yQ8",
    "outputId": "b43a566c-cc3e-4338-da4a-03631bc137d0"
   },
   "outputs": [
    {
     "name": "stdout",
     "output_type": "stream",
     "text": [
      "3\n"
     ]
    }
   ],
   "source": [
    "# 6. __len__(self)\n",
    "class Library:\n",
    "    def __init__(self, books):\n",
    "        self.books = books\n",
    "\n",
    "    def __len__(self):\n",
    "        return len(self.books)\n",
    "\n",
    "library = Library(['Book1', 'Book2', 'Book3'])\n",
    "print(len(library))  # Вывод: 3\n"
   ]
  },
  {
   "cell_type": "code",
   "execution_count": 11,
   "metadata": {
    "colab": {
     "base_uri": "https://localhost:8080/"
    },
    "id": "-zBCfVRp42Gy",
    "outputId": "8922b66f-2be0-48dd-a352-c586679555d3"
   },
   "outputs": [
    {
     "name": "stdout",
     "output_type": "stream",
     "text": [
      "Book1\n"
     ]
    }
   ],
   "source": [
    "# 7. __getitem__(self, key)\n",
    "class Library:\n",
    "    def __init__(self, books):\n",
    "        self.books = books\n",
    "\n",
    "    def __getitem__(self, key):\n",
    "        return self.books[key]\n",
    "\n",
    "library = Library(['Book1', 'Book2', 'Book3'])\n",
    "print(library[0])  # Вывод: Book1\n"
   ]
  },
  {
   "cell_type": "code",
   "execution_count": 12,
   "metadata": {
    "colab": {
     "base_uri": "https://localhost:8080/"
    },
    "id": "w6InmMUD45eS",
    "outputId": "236019b2-c094-4c34-984b-a8e5eaacf928"
   },
   "outputs": [
    {
     "name": "stdout",
     "output_type": "stream",
     "text": [
      "['New Book', 'Book2', 'Book3']\n"
     ]
    }
   ],
   "source": [
    "# 8. __setitem__(self, key, value)\n",
    "class Library:\n",
    "    def __init__(self, books):\n",
    "        self.books = books\n",
    "\n",
    "    def __setitem__(self, key, value):\n",
    "        self.books[key] = value\n",
    "\n",
    "library = Library(['Book1', 'Book2', 'Book3'])\n",
    "library[0] = 'New Book'\n",
    "print(library.books)  # Вывод: ['New Book', 'Book2', 'Book3']\n"
   ]
  },
  {
   "cell_type": "code",
   "execution_count": 13,
   "metadata": {
    "colab": {
     "base_uri": "https://localhost:8080/"
    },
    "id": "PkGUouq94-Ls",
    "outputId": "02060e48-13f0-4e82-a823-547d29205b73"
   },
   "outputs": [
    {
     "name": "stdout",
     "output_type": "stream",
     "text": [
      "Hello, world!\n"
     ]
    }
   ],
   "source": [
    "# 9. __call__(self, [...])\n",
    "class Printer:\n",
    "    def __call__(self, text):\n",
    "        print(text)\n",
    "\n",
    "printer = Printer()\n",
    "printer(\"Hello, world!\")  # Вывод: Hello, world!\n"
   ]
  },
  {
   "cell_type": "code",
   "execution_count": 14,
   "metadata": {
    "colab": {
     "base_uri": "https://localhost:8080/"
    },
    "id": "CZG02uT65AeD",
    "outputId": "ae863b0f-5973-43aa-cdd3-d49bdabc8ce9"
   },
   "outputs": [
    {
     "name": "stdout",
     "output_type": "stream",
     "text": [
      "True\n",
      "False\n"
     ]
    }
   ],
   "source": [
    "# 10. __eq__(self, other)\n",
    "class Number:\n",
    "    def __init__(self, value):\n",
    "        self.value = value\n",
    "\n",
    "    def __eq__(self, other):\n",
    "        return self.value == other.value\n",
    "\n",
    "num1 = Number(5)\n",
    "num2 = Number(5)\n",
    "num3 = Number(7)\n",
    "\n",
    "print(num1 == num2)  # Вывод: True\n",
    "print(num1 == num3)  # Вывод: False\n"
   ]
  },
  {
   "cell_type": "code",
   "execution_count": 15,
   "metadata": {
    "id": "GrurmlHg1bRO"
   },
   "outputs": [],
   "source": [
    "# Создание классов в Python."
   ]
  },
  {
   "cell_type": "code",
   "execution_count": 16,
   "metadata": {
    "id": "jkYUnFjc5C1U"
   },
   "outputs": [],
   "source": [
    "# Определение класса\n",
    "class MyClass:\n",
    "    pass"
   ]
  },
  {
   "cell_type": "code",
   "execution_count": 17,
   "metadata": {
    "id": "aJY8b8mi_IZI"
   },
   "outputs": [],
   "source": [
    "# Метод __init__\n",
    "class MyClass:\n",
    "    def __init__(self, value):\n",
    "        self.attribute = value"
   ]
  },
  {
   "cell_type": "code",
   "execution_count": 18,
   "metadata": {
    "id": "Q8TPM59I_OXZ"
   },
   "outputs": [],
   "source": [
    "# Атрибуты класса:\n",
    "class MyClass:\n",
    "    def __init__(self, value):\n",
    "        self.attribute = value\n"
   ]
  },
  {
   "cell_type": "code",
   "execution_count": 19,
   "metadata": {
    "id": "l-3kbpqm_R5y"
   },
   "outputs": [],
   "source": [
    "# Методы класса:\n",
    "class MyClass:\n",
    "    def __init__(self, value):\n",
    "        self.attribute = value\n",
    "\n",
    "    def my_method(self):\n",
    "        return f\"Value is {self.attribute}\"\n"
   ]
  },
  {
   "cell_type": "code",
   "execution_count": 20,
   "metadata": {
    "colab": {
     "base_uri": "https://localhost:8080/"
    },
    "id": "Gg1IzZel_Unr",
    "outputId": "83e6be15-eda4-41d4-b32c-f16b9bd6111d"
   },
   "outputs": [
    {
     "name": "stdout",
     "output_type": "stream",
     "text": [
      "Value is 10\n"
     ]
    }
   ],
   "source": [
    "# Создание Экземпляров Класса\n",
    "my_object = MyClass(10)\n",
    "print(my_object.my_method())  # Вывод: Value is 10\n"
   ]
  },
  {
   "cell_type": "code",
   "execution_count": 21,
   "metadata": {
    "id": "IAWc6Gbn2mVu"
   },
   "outputs": [],
   "source": [
    "# Создание классов в Python."
   ]
  },
  {
   "cell_type": "code",
   "execution_count": 22,
   "metadata": {
    "colab": {
     "base_uri": "https://localhost:8080/"
    },
    "id": "OkDzuqaA_W4D",
    "outputId": "7e99a248-11c6-4e27-fc6b-3f42ca425577"
   },
   "outputs": [
    {
     "name": "stdout",
     "output_type": "stream",
     "text": [
      "Rex says woof!\n"
     ]
    }
   ],
   "source": [
    "# Пример Полного Класса\n",
    "class Dog:\n",
    "    def __init__(self, name, breed):\n",
    "        self.name = name\n",
    "        self.breed = breed\n",
    "\n",
    "    def bark(self):\n",
    "        return f\"{self.name} says woof!\"\n",
    "\n",
    "# Создание экземпляра класса Dog\n",
    "my_dog = Dog(\"Rex\", \"Labrador\")\n",
    "print(my_dog.bark())  # Вывод: Rex says woof!\n"
   ]
  },
  {
   "cell_type": "code",
   "execution_count": 23,
   "metadata": {
    "id": "JqZQbcMP_as7"
   },
   "outputs": [],
   "source": [
    "class Dog:\n",
    "    species = \"Canine\"  # Атрибут класса\n",
    "\n",
    "    def __init__(self, name, age):\n",
    "        self.name = name  # Атрибут экземпляра\n",
    "        self.age = age\n",
    "\n",
    "    def bark(self):  # Метод экземпляра\n",
    "        return f\"{self.name} says woof!\"\n",
    "\n",
    "    @classmethod\n",
    "    def get_species(cls):  # Классовый метод\n",
    "        return cls.species\n",
    "\n",
    "    @staticmethod\n",
    "    def is_dog_animal():  # Статический метод\n",
    "        return True"
   ]
  },
  {
   "cell_type": "code",
   "execution_count": 24,
   "metadata": {
    "id": "MGltA6lMp6gN"
   },
   "outputs": [],
   "source": [
    "# Практическая часть"
   ]
  },
  {
   "cell_type": "markdown",
   "metadata": {
    "id": "AxsnA01VvZpW"
   },
   "source": [
    "В машинном обучении классы часто используются для создания моделей, инкапсуляции процессов обучения и предсказания, а также управления данными. Вот пример простого класса для линейной регрессии:\n",
    "\n",
    "Пример: Простая Линейная Регрессия\n",
    "Допустим, мы хотим создать класс, который может обучать линейную регрессионную модель на наборе данных и предсказывать значения. Мы будем использовать библиотеку NumPy для вычислений."
   ]
  },
  {
   "cell_type": "code",
   "execution_count": 25,
   "metadata": {
    "id": "PJXQn4wCvaZq"
   },
   "outputs": [],
   "source": [
    "import numpy as np\n",
    "\n",
    "class SimpleLinearRegression:\n",
    "    def __init__(self):\n",
    "        self.coefficient = None\n",
    "        self.intercept = None\n",
    "\n",
    "    def fit(self, X, y):\n",
    "        # Обучение модели\n",
    "        # X - входные данные, y - целевые значения\n",
    "        X_mean = np.mean(X)\n",
    "        y_mean = np.mean(y)\n",
    "        self.coefficient = np.sum((X - X_mean) * (y - y_mean)) / np.sum((X - X_mean) ** 2)\n",
    "        self.intercept = y_mean - self.coefficient * X_mean\n",
    "\n",
    "    def predict(self, X):\n",
    "        # Предсказание на новых данных\n",
    "        return self.intercept + self.coefficient * X\n",
    "\n",
    "    def get_parameters(self):\n",
    "        # Возвращение параметров модели\n",
    "        return self.coefficient, self.intercept"
   ]
  },
  {
   "cell_type": "code",
   "execution_count": 26,
   "metadata": {
    "id": "UsEVw4jzvebv"
   },
   "outputs": [],
   "source": [
    "# Использование класса"
   ]
  },
  {
   "cell_type": "code",
   "execution_count": 27,
   "metadata": {
    "colab": {
     "base_uri": "https://localhost:8080/"
    },
    "id": "jA6jvVOjvizP",
    "outputId": "82b9a4b2-4c26-4f5e-d915-ae482c042e76"
   },
   "outputs": [
    {
     "name": "stdout",
     "output_type": "stream",
     "text": [
      "Coefficient (slope): 0.6\n",
      "Intercept: 2.2\n",
      "Predictions: [5.8 6.4]\n"
     ]
    }
   ],
   "source": [
    "# Пример данных\n",
    "X = np.array([1, 2, 3, 4, 5])\n",
    "y = np.array([2, 4, 5, 4, 5])\n",
    "\n",
    "# Создание и обучение модели\n",
    "model = SimpleLinearRegression()\n",
    "model.fit(X, y)\n",
    "\n",
    "# Получение параметров\n",
    "print(\"Coefficient (slope):\", model.coefficient)\n",
    "print(\"Intercept:\", model.intercept)\n",
    "\n",
    "# Предсказание на новых данных\n",
    "X_new = np.array([6, 7])\n",
    "predictions = model.predict(X_new)\n",
    "print(\"Predictions:\", predictions)"
   ]
  },
  {
   "cell_type": "code",
   "execution_count": 27,
   "metadata": {
    "id": "gurw1uFTvkfh"
   },
   "outputs": [],
   "source": []
  },
  {
   "cell_type": "markdown",
   "metadata": {
    "id": "j0KuCRyYvoCD"
   },
   "source": [
    "В этом примере мы создали класс SimpleLinearRegression, который обучает простую линейную регрессионную модель, используя метод наименьших квадратов. Метод fit используется для обучения модели на данных, predict для выполнения предсказаний на новых данных, а get_parameters возвращает параметры модели.\n",
    "\n",
    "Это базовый пример, демонстрирующий, как можно использовать классы в Python для структурирования моделей машинного обучения. В реальных сценариях могут потребоваться более сложные реализации, включающие дополнительные методы для валидации модели, обработки ошибок и оптимизации."
   ]
  },
  {
   "cell_type": "code",
   "execution_count": 28,
   "metadata": {
    "id": "1FDK4IRTvojR"
   },
   "outputs": [],
   "source": [
    "# Расширенное использование классов в машинном обучении на Python включает в себя несколько продвинутых техник и практик,\n",
    "# которые делают код более модульным, удобным для повторного использования и легким для тестирования.\n",
    "# Вот несколько примеров таких практик:"
   ]
  },
  {
   "cell_type": "code",
   "execution_count": 29,
   "metadata": {
    "id": "Kckv97Rjx8Jo"
   },
   "outputs": [],
   "source": [
    "# Наследование для Расширения Моделей"
   ]
  },
  {
   "cell_type": "code",
   "execution_count": 30,
   "metadata": {
    "id": "zL7dw6ZzxUvO"
   },
   "outputs": [],
   "source": [
    "from sklearn.base import BaseEstimator, TransformerMixin\n",
    "\n",
    "class CustomTransformer(BaseEstimator, TransformerMixin):\n",
    "    def __init__(self, params):\n",
    "        # инициализация параметров\n",
    "        pass\n",
    "\n",
    "    def fit(self, X, y=None):\n",
    "        # логика обучения\n",
    "        return self\n",
    "\n",
    "    def transform(self, X):\n",
    "        # логика преобразования данных\n",
    "        return X_modified"
   ]
  },
  {
   "cell_type": "code",
   "execution_count": 31,
   "metadata": {
    "id": "W9Vs-Zo5x4jt"
   },
   "outputs": [],
   "source": [
    "# Композиция для Сочетания Моделей"
   ]
  },
  {
   "cell_type": "code",
   "execution_count": 32,
   "metadata": {
    "id": "ZjJqQP2bzUt8"
   },
   "outputs": [],
   "source": [
    "class MyModel:\n",
    "    def __init__(self, preprocessor, classifier):\n",
    "        self.preprocessor = preprocessor\n",
    "        self.classifier = classifier\n",
    "\n",
    "    def fit(self, X, y):\n",
    "        X_transformed = self.preprocessor.fit_transform(X)\n",
    "        self.classifier.fit(X_transformed, y)\n",
    "\n",
    "    def predict(self, X):\n",
    "        X_transformed = self.preprocessor.transform(X)\n",
    "        return self.classifier.predict(X_transformed)"
   ]
  },
  {
   "cell_type": "code",
   "execution_count": 33,
   "metadata": {
    "id": "S69GANxkzVLd"
   },
   "outputs": [],
   "source": [
    "# Фабрики и Стратегии для Динамического Создания Моделей"
   ]
  },
  {
   "cell_type": "code",
   "execution_count": 34,
   "metadata": {
    "id": "T8nFI2izzd9f"
   },
   "outputs": [],
   "source": [
    "from sklearn.linear_model import LinearRegression\n",
    "from sklearn.tree import DecisionTreeRegressor\n",
    "\n",
    "class ModelFactory:\n",
    "    def get_model(model_type):\n",
    "        if model_type == \"linear\":\n",
    "            return LinearRegression()\n",
    "        elif model_type == \"tree\":\n",
    "            return DecisionTreeRegressor()\n",
    "        else:\n",
    "            raise ValueError(\"Unknown model type\")\n",
    "\n",
    "# Использование\n",
    "model = ModelFactory.get_model(\"linear\")"
   ]
  },
  {
   "cell_type": "code",
   "execution_count": 34,
   "metadata": {
    "id": "J9lXCeYM1dP5"
   },
   "outputs": [],
   "source": []
  },
  {
   "cell_type": "code",
   "execution_count": 35,
   "metadata": {
    "id": "uyPPWU1ezfLS"
   },
   "outputs": [],
   "source": [
    "# Декораторы для Расширения Функциональности\n"
   ]
  },
  {
   "cell_type": "code",
   "execution_count": 36,
   "metadata": {
    "id": "EHa0qogn0Pev"
   },
   "outputs": [],
   "source": [
    "def log_time(func):\n",
    "    def wrapper(*args, **kwargs):\n",
    "        start = time.time()\n",
    "        result = func(*args, **kwargs)\n",
    "        end = time.time()\n",
    "        print(f\"{func.__name__} took {end - start} seconds\")\n",
    "        return result\n",
    "    return wrapper\n",
    "\n",
    "class MyModel:\n",
    "    @log_time\n",
    "    def fit(self, X, y):\n",
    "        # обучение модели\n",
    "        pass\n"
   ]
  },
  {
   "cell_type": "code",
   "execution_count": 37,
   "metadata": {
    "id": "8i14Xxw70dcK"
   },
   "outputs": [],
   "source": [
    "# Импортирование Модуля"
   ]
  },
  {
   "cell_type": "code",
   "execution_count": 38,
   "metadata": {
    "colab": {
     "base_uri": "https://localhost:8080/"
    },
    "id": "gYoHInTg2gxE",
    "outputId": "6909b2f9-bd3b-4705-9fa2-4238edf9d40c"
   },
   "outputs": [
    {
     "name": "stdout",
     "output_type": "stream",
     "text": [
      "4.0\n"
     ]
    }
   ],
   "source": [
    "import math\n",
    "print(math.sqrt(16))  # Использование функции sqrt из модуля math"
   ]
  },
  {
   "cell_type": "code",
   "execution_count": 39,
   "metadata": {
    "id": "pUxQ9VD82ipe"
   },
   "outputs": [],
   "source": [
    "# Импортирование Отдельных Функций"
   ]
  },
  {
   "cell_type": "code",
   "execution_count": 40,
   "metadata": {
    "colab": {
     "base_uri": "https://localhost:8080/"
    },
    "id": "gPmV-Kb02mgb",
    "outputId": "2b132f5b-e687-4b16-8d73-83dd4613b7e8"
   },
   "outputs": [
    {
     "name": "stdout",
     "output_type": "stream",
     "text": [
      "4.0\n"
     ]
    }
   ],
   "source": [
    "from math import sqrt\n",
    "print(sqrt(16))  # Непосредственное использование sqrt"
   ]
  },
  {
   "cell_type": "code",
   "execution_count": 41,
   "metadata": {
    "id": "x1PGe2Qz2n3y"
   },
   "outputs": [],
   "source": [
    "# Переименование Модулей:"
   ]
  },
  {
   "cell_type": "code",
   "execution_count": 42,
   "metadata": {
    "colab": {
     "base_uri": "https://localhost:8080/"
    },
    "id": "nfUJJRaI2pKj",
    "outputId": "2d81c862-823c-4995-dabe-2fe84738afce"
   },
   "outputs": [
    {
     "name": "stdout",
     "output_type": "stream",
     "text": [
      "4.0\n"
     ]
    }
   ],
   "source": [
    "import math as m\n",
    "print(m.sqrt(16))  # Использование sqrt с псевдонимом m"
   ]
  },
  {
   "cell_type": "code",
   "execution_count": 43,
   "metadata": {
    "id": "HArSGKdV2qd8"
   },
   "outputs": [],
   "source": [
    "# Создание Собственных Модулей"
   ]
  },
  {
   "cell_type": "code",
   "execution_count": 44,
   "metadata": {
    "id": "RyB5fk6m2uJ_"
   },
   "outputs": [],
   "source": [
    "# Разработка собственного модуля"
   ]
  },
  {
   "cell_type": "code",
   "execution_count": 45,
   "metadata": {
    "id": "EzO_X7mW6LVp"
   },
   "outputs": [],
   "source": [
    "# simple_ml_module.py\n",
    "import numpy as np\n",
    "from sklearn.linear_model import LinearRegression\n",
    "from sklearn.metrics import mean_squared_error\n",
    "\n",
    "class SimpleLinearRegressor:\n",
    "    def __init__(self):\n",
    "        self.model = LinearRegression()\n",
    "\n",
    "    def fit(self, X, y):\n",
    "        self.model.fit(X, y)\n",
    "\n",
    "    def predict(self, X):\n",
    "        return self.model.predict(X)\n",
    "\n",
    "    def evaluate(self, X, y):\n",
    "        predictions = self.predict(X)\n",
    "        return mean_squared_error(y, predictions)\n",
    "\n",
    "\n",
    "def standardize_data(X):\n",
    "    return (X - np.mean(X, axis=0)) / np.std(X, axis=0)"
   ]
  },
  {
   "cell_type": "code",
   "execution_count": 5,
   "metadata": {
    "colab": {
     "base_uri": "https://localhost:8080/"
    },
    "id": "_SpB_m6W5_r1",
    "outputId": "9a7a7ad5-5456-4fcb-a019-ceece8f1b1ff"
   },
   "outputs": [
    {
     "ename": "ModuleNotFoundError",
     "evalue": "No module named 'simple_ml_module'",
     "output_type": "error",
     "traceback": [
      "\u001b[1;31m---------------------------------------------------------------------------\u001b[0m",
      "\u001b[1;31mModuleNotFoundError\u001b[0m                       Traceback (most recent call last)",
      "Cell \u001b[1;32mIn[5], line 1\u001b[0m\n\u001b[1;32m----> 1\u001b[0m \u001b[38;5;28;01mfrom\u001b[39;00m \u001b[38;5;21;01msimple_ml_module\u001b[39;00m \u001b[38;5;28;01mimport\u001b[39;00m SimpleLinearRegressor, standardize_data\n\u001b[0;32m      2\u001b[0m \u001b[38;5;28;01mimport\u001b[39;00m \u001b[38;5;21;01mnumpy\u001b[39;00m \u001b[38;5;28;01mas\u001b[39;00m \u001b[38;5;21;01mnp\u001b[39;00m\n\u001b[0;32m      4\u001b[0m X \u001b[38;5;241m=\u001b[39m np\u001b[38;5;241m.\u001b[39marray([\u001b[38;5;241m1\u001b[39m, \u001b[38;5;241m2\u001b[39m, \u001b[38;5;241m3\u001b[39m, \u001b[38;5;241m4\u001b[39m, \u001b[38;5;241m5\u001b[39m, \u001b[38;5;241m6\u001b[39m, \u001b[38;5;241m7\u001b[39m, \u001b[38;5;241m8\u001b[39m, \u001b[38;5;241m9\u001b[39m, \u001b[38;5;241m10\u001b[39m])\u001b[38;5;241m.\u001b[39mreshape(\u001b[38;5;241m-\u001b[39m\u001b[38;5;241m1\u001b[39m, \u001b[38;5;241m1\u001b[39m)\n",
      "\u001b[1;31mModuleNotFoundError\u001b[0m: No module named 'simple_ml_module'"
     ]
    }
   ],
   "source": [
    "from simple_ml_module import SimpleLinearRegressor, standardize_data\n",
    "import numpy as np\n",
    "\n",
    "X = np.array([1, 2, 3, 4, 5, 6, 7, 8, 9, 10]).reshape(-1, 1)\n",
    "y = np.array([2, 4, 6, 8, 10, 12, 14, 16, 18, 20])\n",
    "\n",
    "# Предположим, X и y - ваши данные\n",
    "X_standardized = standardize_data(X)\n",
    "model = SimpleLinearRegressor()\n",
    "model.fit(X_standardized, y)\n",
    "print(\"Оценка модели:\", model.evaluate(X_standardized, y))"
   ]
  },
  {
   "cell_type": "code",
   "execution_count": 46,
   "metadata": {
    "id": "vrYWd1Q39dLl"
   },
   "outputs": [],
   "source": []
  },
  {
   "cell_type": "code",
   "execution_count": 48,
   "metadata": {
    "id": "Bac_W-2H4s-n"
   },
   "outputs": [],
   "source": []
  },
  {
   "cell_type": "code",
   "execution_count": null,
   "metadata": {
    "id": "WWXFEwjq8JCJ"
   },
   "outputs": [],
   "source": []
  }
 ],
 "metadata": {
  "colab": {
   "provenance": []
  },
  "kernelspec": {
   "display_name": "Python 3 (ipykernel)",
   "language": "python",
   "name": "python3"
  },
  "language_info": {
   "codemirror_mode": {
    "name": "ipython",
    "version": 3
   },
   "file_extension": ".py",
   "mimetype": "text/x-python",
   "name": "python",
   "nbconvert_exporter": "python",
   "pygments_lexer": "ipython3",
   "version": "3.12.0"
  }
 },
 "nbformat": 4,
 "nbformat_minor": 4
}
